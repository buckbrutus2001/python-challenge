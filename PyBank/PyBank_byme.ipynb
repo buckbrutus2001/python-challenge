{
 "cells": [
  {
   "cell_type": "code",
   "execution_count": 2,
   "metadata": {},
   "outputs": [],
   "source": [
    "import os\n",
    "import csv"
   ]
  },
  {
   "cell_type": "code",
   "execution_count": 3,
   "metadata": {},
   "outputs": [
    {
     "data": {
      "text/plain": [
       "'Resources/budget_data.csv'"
      ]
     },
     "execution_count": 3,
     "metadata": {},
     "output_type": "execute_result"
    }
   ],
   "source": [
    "csvpath = os.path.join(\"Resources\",\"budget_data.csv\")\n",
    "csvpath"
   ]
  },
  {
   "cell_type": "code",
   "execution_count": 4,
   "metadata": {},
   "outputs": [
    {
     "name": "stdout",
     "output_type": "stream",
     "text": [
      "['Jan-2010', 'Feb-2010', 'Mar-2010', 'Apr-2010', 'May-2010', 'Jun-2010', 'Jul-2010', 'Aug-2010', 'Sep-2010', 'Oct-2010', 'Nov-2010', 'Dec-2010', 'Jan-2011', 'Feb-2011', 'Mar-2011', 'Apr-2011', 'May-2011', 'Jun-2011', 'Jul-2011', 'Aug-2011', 'Sep-2011', 'Oct-2011', 'Nov-2011', 'Dec-2011', 'Jan-2012', 'Feb-2012', 'Mar-2012', 'Apr-2012', 'May-2012', 'Jun-2012', 'Jul-2012', 'Aug-2012', 'Sep-2012', 'Oct-2012', 'Nov-2012', 'Dec-2012', 'Jan-2013', 'Feb-2013', 'Mar-2013', 'Apr-2013', 'May-2013', 'Jun-2013', 'Jul-2013', 'Aug-2013', 'Sep-2013', 'Oct-2013', 'Nov-2013', 'Dec-2013', 'Jan-2014', 'Feb-2014', 'Mar-2014', 'Apr-2014', 'May-2014', 'Jun-2014', 'Jul-2014', 'Aug-2014', 'Sep-2014', 'Oct-2014', 'Nov-2014', 'Dec-2014', 'Jan-2015', 'Feb-2015', 'Mar-2015', 'Apr-2015', 'May-2015', 'Jun-2015', 'Jul-2015', 'Aug-2015', 'Sep-2015', 'Oct-2015', 'Nov-2015', 'Dec-2015', 'Jan-2016', 'Feb-2016', 'Mar-2016', 'Apr-2016', 'May-2016', 'Jun-2016', 'Jul-2016', 'Aug-2016', 'Sep-2016', 'Oct-2016', 'Nov-2016', 'Dec-2016', 'Jan-2017', 'Feb-2017']\n"
     ]
    }
   ],
   "source": [
    "with open(csvpath, newline=\"\") as csvfile:\n",
    "    csv_reader = csv.reader(csvfile, delimiter=\",\")\n",
    "    next(csv_reader)\n",
    "#     print(next(csv_reader))\n",
    "#    header = next(csv_reader)\n",
    "#     date_index=header.index(\"Date\")\n",
    "#     pl_index = header.index(\"Profit/Losses\")\n",
    "#     print(date_index)\n",
    "#     print(header)\n",
    "#     linecount = len(csvfile.readlines())\n",
    "#     print(len(csv_reader))\n",
    "#     nettotal = 0\n",
    "\n",
    "    months = []\n",
    "    for row in csv_reader:\n",
    "#         print('in loop')\n",
    "#         nettotal = nettotal + row(1)\n",
    "#         nettotal = float(nettotal)\n",
    "        months.append(row[0])\n",
    "    \n",
    "    nummonths = (len(months))\n",
    "    \n",
    "#     print (\"Financial Analysis\")\n",
    "#     print (\"----------------------------\")\n",
    "#     print (f\"Total Months: {nummonths}\")\n",
    "\n",
    "    \n",
    "with open(csvpath, newline=\"\") as csvfile:\n",
    "    csv_reader = csv.reader(csvfile, delimiter=\",\")\n",
    "    next(csv_reader)\n",
    "        \n",
    "    nettotal = 0\n",
    "    for row in csv_reader:\n",
    "        nettotal += float(row[1])\n",
    "        \n",
    "#         nettotal = int()\n",
    "#     print(f\"Total: ${int(nettotal)}\")\n",
    "    print(months)"
   ]
  },
  {
   "cell_type": "code",
   "execution_count": 9,
   "metadata": {},
   "outputs": [
    {
     "name": "stdout",
     "output_type": "stream",
     "text": [
      "Financial Analysis\n",
      "----------------------------\n",
      "Total Months: 86\n",
      "Total: $38382578\n",
      "Average  Change: $-2315.12\n",
      "Greatest Increase in Profits: Feb-2012 ($1926159) \n",
      "Greatest Decrease in Profits: Sep-2013 ($-2196167) \n"
     ]
    }
   ],
   "source": [
    "\n",
    "\n",
    "with open(csvpath, \"r\") as csvfile:\n",
    "    csv_reader = csv.reader(csvfile)\n",
    "    next(csv_reader)\n",
    "    \n",
    "    profitloss_change=[]\n",
    "    profitloss = [] \n",
    "    profitloss_date= []\n",
    "    \n",
    "    \n",
    "    for row in csv_reader:\n",
    "        profitloss.append(row[1])\n",
    "        profitloss_date.append(row[0])\n",
    "#         print(row[1])\n",
    "#     print(profitloss)\n",
    "#     print(profitloss_date)\n",
    "    \n",
    "    for row in range(1,len(profitloss)):\n",
    "        profitloss_change.append(float(profitloss[row]) - float(profitloss[row-1]))\n",
    "                          \n",
    "    avg_change = sum(profitloss_change)/len(profitloss_change)\n",
    "#     print(round(avg_change,2))\n",
    "    avg_change = round(avg_change,2)\n",
    "    max_change = round(max(profitloss_change))\n",
    "    min_change = round(min(profitloss_change))\n",
    "    \n",
    "#     print(profitloss_change.index(max(profitloss_change)))\n",
    "    max_change_date_index = profitloss_change.index(max(profitloss_change))\n",
    "\n",
    "#     print (profitloss_date[max_change_date_index+1])\n",
    "    max_change_date =profitloss_date[max_change_date_index+1]\n",
    "    \n",
    "    \n",
    "    min_change_date_index = profitloss_change.index(min(profitloss_change))\n",
    "\n",
    "#     print (profitloss_date[min_change_date_index+1])\n",
    "    min_change_date =profitloss_date[min_change_date_index+1]\n",
    "    \n",
    "    \n",
    "    \n",
    "    print (\"Financial Analysis\")\n",
    "    print (\"----------------------------\")\n",
    "    print (f\"Total Months: {nummonths}\")\n",
    "    print(f\"Total: ${int(nettotal)}\")\n",
    "    print (f\"Average  Change: ${avg_change}\")\n",
    "    print (f\"Greatest Increase in Profits: {max_change_date} (${max_change}) \")\n",
    "    print (f\"Greatest Decrease in Profits: {min_change_date} (${min_change}) \")\n",
    "    \n",
    "    \n",
    "# Financial Analysis\n",
    "# ----------------------------\n",
    "# Total Months: 86\n",
    "# Total: $38382578\n",
    "# Average  Change: $-2315.12\n",
    "# Greatest Increase in Profits: Feb-2012 ($1926159)\n",
    "# Greatest Decrease in Profits: Sep-2013 ($-2196167)        "
   ]
  },
  {
   "cell_type": "code",
   "execution_count": null,
   "metadata": {},
   "outputs": [],
   "source": []
  },
  {
   "cell_type": "code",
   "execution_count": null,
   "metadata": {},
   "outputs": [],
   "source": []
  },
  {
   "cell_type": "code",
   "execution_count": null,
   "metadata": {},
   "outputs": [],
   "source": []
  },
  {
   "cell_type": "code",
   "execution_count": null,
   "metadata": {},
   "outputs": [],
   "source": []
  }
 ],
 "metadata": {
  "kernelspec": {
   "display_name": "Conda [PythonData]",
   "language": "python",
   "name": "pythondata"
  }
 },
 "nbformat": 4,
 "nbformat_minor": 2
}
