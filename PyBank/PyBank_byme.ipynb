{
 "cells": [
  {
   "cell_type": "code",
   "execution_count": 2,
   "metadata": {},
   "outputs": [],
   "source": [
    "import os\n",
    "import csv"
   ]
  },
  {
   "cell_type": "code",
   "execution_count": 4,
   "metadata": {},
   "outputs": [],
   "source": [
    "csvpath = os.path.join(\"Resources\",\"budget_data.csv\")\n",
    "# csvpath"
   ]
  },
  {
   "cell_type": "code",
   "execution_count": 5,
   "metadata": {},
   "outputs": [],
   "source": [
    "with open(csvpath, newline=\"\") as csvfile:\n",
    "    csv_reader = csv.reader(csvfile, delimiter=\",\")\n",
    "    next(csv_reader)\n",
    "\n",
    "    months = []\n",
    "    for row in csv_reader:\n",
    "        months.append(row[0])\n",
    "    \n",
    "    nummonths = (len(months))\n",
    "    \n",
    "\n",
    "    \n",
    "with open(csvpath, newline=\"\") as csvfile:\n",
    "    csv_reader = csv.reader(csvfile, delimiter=\",\")\n",
    "    next(csv_reader)\n",
    "        \n",
    "    nettotal = 0\n",
    "    for row in csv_reader:\n",
    "        nettotal += float(row[1])\n",
    "        "
   ]
  },
  {
   "cell_type": "code",
   "execution_count": 6,
   "metadata": {},
   "outputs": [
    {
     "name": "stdout",
     "output_type": "stream",
     "text": [
      "Financial Analysis\n",
      "----------------------------\n",
      "Total Months: 86\n",
      "Total: $38382578\n",
      "Average  Change: $-2315.12\n",
      "Greatest Increase in Profits: Feb-2012 ($1926159) \n",
      "Greatest Decrease in Profits: Sep-2013 ($-2196167) \n"
     ]
    }
   ],
   "source": [
    "\n",
    "\n",
    "with open(csvpath, \"r\") as csvfile:\n",
    "    csv_reader = csv.reader(csvfile)\n",
    "    next(csv_reader)\n",
    "    \n",
    "    profitloss_change=[]\n",
    "    profitloss = [] \n",
    "    profitloss_date= []\n",
    "    \n",
    "    \n",
    "    for row in csv_reader:\n",
    "        profitloss.append(row[1])\n",
    "        profitloss_date.append(row[0])\n",
    "    \n",
    "    for row in range(1,len(profitloss)):\n",
    "        profitloss_change.append(float(profitloss[row]) - float(profitloss[row-1]))\n",
    "                          \n",
    "    avg_change = sum(profitloss_change)/len(profitloss_change)\n",
    "    avg_change = round(avg_change,2)\n",
    "    max_change = round(max(profitloss_change))\n",
    "    min_change = round(min(profitloss_change))\n",
    "    \n",
    "    max_change_date_index = profitloss_change.index(max(profitloss_change))\n",
    "    max_change_date =profitloss_date[max_change_date_index+1]\n",
    "    min_change_date_index = profitloss_change.index(min(profitloss_change))\n",
    "    min_change_date =profitloss_date[min_change_date_index+1]\n",
    "    \n",
    "    \n",
    "    \n",
    "    print (\"Financial Analysis\")\n",
    "    print (\"----------------------------\")\n",
    "    print (f\"Total Months: {nummonths}\")\n",
    "    print(f\"Total: ${int(nettotal)}\")\n",
    "    print (f\"Average  Change: ${avg_change}\")\n",
    "    print (f\"Greatest Increase in Profits: {max_change_date} (${max_change}) \")\n",
    "    print (f\"Greatest Decrease in Profits: {min_change_date} (${min_change}) \")\n",
    "          "
   ]
  },
  {
   "cell_type": "code",
   "execution_count": 7,
   "metadata": {},
   "outputs": [],
   "source": [
    "output_path = os.path.join(\"PyBank_output.txt\")\n",
    "with open(output_path, 'w', newline='') as outfile:\n",
    "    outfile.write(\"Financial Analysis\\n\")\n",
    "    outfile.write(\"----------------------------\\n\")\n",
    "    outfile.write(f\"Total Months: {nummonths}\\n\")\n",
    "    outfile.write(f\"Total: ${int(nettotal)}\\n\")\n",
    "    outfile.write(f\"Average  Change: ${avg_change}\\n\")\n",
    "    outfile.write(f\"Greatest Increase in Profits: {max_change_date} (${max_change})\\n\")\n",
    "    outfile.write(f\"Greatest Decrease in Profits: {min_change_date} (${min_change})\\n\")\n",
    "    \n"
   ]
  }
 ],
 "metadata": {
  "kernelspec": {
   "display_name": "Conda [PythonData]",
   "language": "python",
   "name": "pythondata"
  },
  "language_info": {
   "codemirror_mode": {
    "name": "ipython",
    "version": 3
   },
   "file_extension": ".py",
   "mimetype": "text/x-python",
   "name": "python",
   "nbconvert_exporter": "python",
   "pygments_lexer": "ipython3",
   "version": "3.7.3"
  }
 },
 "nbformat": 4,
 "nbformat_minor": 2
}
