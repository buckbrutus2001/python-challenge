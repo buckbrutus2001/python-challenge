{
 "cells": [
  {
   "cell_type": "code",
   "execution_count": 1,
   "metadata": {},
   "outputs": [],
   "source": [
    "import os\n",
    "import csv\n",
    "csvpath = os.path.join(\"Resources\",\"election_data.csv\")\n"
   ]
  },
  {
   "cell_type": "code",
   "execution_count": 2,
   "metadata": {},
   "outputs": [],
   "source": [
    "\n",
    "\n",
    "\n",
    "with open(csvpath, 'r') as csvfile:\n",
    "    csvread = csv.DictReader(csvfile)\n",
    "#     next(csvread, None)\n",
    "    vote_count = {}\n",
    "    \n",
    "\n",
    "  \n",
    "    for row in csvread:\n",
    "#         print(row)\n",
    "        if row[\"Candidate\"] in vote_count:\n",
    "            vote_count[row[\"Candidate\"]] = vote_count[row[\"Candidate\"]]+1\n",
    "        else: \n",
    "            vote_count[row[\"Candidate\"]] = 1\n",
    "\n"
   ]
  },
  {
   "cell_type": "code",
   "execution_count": 3,
   "metadata": {},
   "outputs": [],
   "source": [
    "totalvotes = 0\n",
    "totalvotes = sum(vote_count.values())"
   ]
  },
  {
   "cell_type": "code",
   "execution_count": 4,
   "metadata": {},
   "outputs": [
    {
     "name": "stdout",
     "output_type": "stream",
     "text": [
      "Khan\n",
      "Correy\n",
      "Li\n",
      "O'Tooley\n"
     ]
    }
   ],
   "source": [
    "candidates = []\n",
    "results = []\n",
    "\n",
    "for key, value in vote_count.items():\n",
    "    candidates.append(key)\n",
    "    results.append(value)\n",
    "\n",
    "\n",
    "# for row in candidates:\n",
    "#     print(row)"
   ]
  },
  {
   "cell_type": "code",
   "execution_count": 5,
   "metadata": {},
   "outputs": [],
   "source": [
    "percentages =[]\n",
    "\n",
    "for row in results:\n",
    "    percentages.append('{:.3%}'.format(row/totalvotes))\n",
    "\n",
    "    "
   ]
  },
  {
   "cell_type": "code",
   "execution_count": 6,
   "metadata": {},
   "outputs": [],
   "source": [
    "# election_dict = {candidates[i]:[percentages[i], results[i]] for i in range(0,len(candidates))}\n",
    "# election_dict[\"Khan\"]\n",
    "\n",
    "\n",
    "election_zip = list(zip(candidates, results, percentages))\n",
    "\n",
    "\n",
    "winner = \"\"\n",
    "\n",
    "for row in election_zip:\n",
    "    if max(results) == row[1]:\n",
    "        winner = row[0]\n",
    "\n",
    "# print(winner)\n",
    "\n"
   ]
  },
  {
   "cell_type": "code",
   "execution_count": 7,
   "metadata": {},
   "outputs": [
    {
     "name": "stdout",
     "output_type": "stream",
     "text": [
      "Election Results\n",
      "------------------------- \n",
      "Total Votes: 3521001 \n",
      "------------------------- \n",
      "Khan 63.000% (2218231)\n",
      "Correy 20.000% (704200)\n",
      "Li 14.000% (492940)\n",
      "O'Tooley 3.000% (105630)\n",
      "------------------------- \n",
      "Winner: Khan\n",
      "------------------------- \n"
     ]
    }
   ],
   "source": [
    "# for x,y in election_dict.items():\n",
    "#     print (f\"{x} {election_dict[x]}\")\n",
    "\n",
    "print(\"Election Results\")\n",
    "print(\"------------------------- \")\n",
    "print(f\"Total Votes: {totalvotes} \")\n",
    "print(\"------------------------- \")\n",
    "for row in election_zip:\n",
    "    print(f\"{row[0]} {row[2]} ({row[1]})\")\n",
    "# for key,value in election_dict.items():\n",
    "#     print(\"{}:  {}\".format(key,value))   \n",
    "print(\"------------------------- \")\n",
    "print(f\"Winner: {winner}\")    \n",
    "print(\"------------------------- \")\n"
   ]
  },
  {
   "cell_type": "code",
   "execution_count": 8,
   "metadata": {},
   "outputs": [],
   "source": [
    "\n",
    "\n",
    "output_path = os.path.join(\"PyPoll_output.txt\")\n",
    "with open(output_path, 'w', newline='') as outfile:\n",
    "    outfile.write(\"Election Results\\n\")\n",
    "    outfile.write(\"----------------------------\\n\")\n",
    "    outfile.write(f\"Total Votes: {totalvotes} \\n\")\n",
    "    outfile.write(\"----------------------------\\n\")\n",
    "    for row in election_zip:\n",
    "        outfile.write(f\"{row[0]} {row[2]} ({row[1]})\\n\")\n",
    "    outfile.write(\"----------------------------\\n\")\n",
    "    outfile.write(f\"Winner: {winner}\\n\")\n"
   ]
  },
  {
   "cell_type": "code",
   "execution_count": null,
   "metadata": {},
   "outputs": [],
   "source": []
  },
  {
   "cell_type": "code",
   "execution_count": null,
   "metadata": {},
   "outputs": [],
   "source": []
  }
 ],
 "metadata": {
  "kernelspec": {
   "display_name": "Conda [PythonData]",
   "language": "python",
   "name": "pythondata"
  },
  "language_info": {
   "codemirror_mode": {
    "name": "ipython",
    "version": 3
   },
   "file_extension": ".py",
   "mimetype": "text/x-python",
   "name": "python",
   "nbconvert_exporter": "python",
   "pygments_lexer": "ipython3",
   "version": "3.7.3"
  }
 },
 "nbformat": 4,
 "nbformat_minor": 2
}
