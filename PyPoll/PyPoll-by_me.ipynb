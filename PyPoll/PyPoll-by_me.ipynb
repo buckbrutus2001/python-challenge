{
 "cells": [
  {
   "cell_type": "code",
   "execution_count": 1,
   "metadata": {},
   "outputs": [],
   "source": [
    "\n",
    "import os\n",
    "import csv\n",
    "\n",
    "#choose 1 or 2\n",
    "file_num = 1\n",
    "\n",
    "# Identifies file with poll data\n",
    "file = os.path.join('Resources', 'election_data.csv')\n",
    "\n",
    "#Creates dictionary to be used for candidate name and vote count.\n",
    "vote_count = {}\n",
    "\n",
    "#Sets variable, total votes, to zero for count.\n",
    "total_votes = 0\n"
   ]
  },
  {
   "cell_type": "code",
   "execution_count": 6,
   "metadata": {},
   "outputs": [
    {
     "ename": "KeyError",
     "evalue": "2",
     "output_type": "error",
     "traceback": [
      "\u001b[0;31m---------------------------------------------------------------------------\u001b[0m",
      "\u001b[0;31mKeyError\u001b[0m                                  Traceback (most recent call last)",
      "\u001b[0;32m<ipython-input-6-ccb14c776057>\u001b[0m in \u001b[0;36m<module>\u001b[0;34m\u001b[0m\n\u001b[1;32m     16\u001b[0m \u001b[0;31m#             poll[row[2]] = 1\u001b[0m\u001b[0;34m\u001b[0m\u001b[0;34m\u001b[0m\u001b[0;34m\u001b[0m\u001b[0m\n\u001b[1;32m     17\u001b[0m     \u001b[0;32mfor\u001b[0m \u001b[0mrow\u001b[0m \u001b[0;32min\u001b[0m \u001b[0mcsvread\u001b[0m\u001b[0;34m:\u001b[0m\u001b[0;34m\u001b[0m\u001b[0;34m\u001b[0m\u001b[0m\n\u001b[0;32m---> 18\u001b[0;31m         \u001b[0;32mif\u001b[0m \u001b[0mrow\u001b[0m\u001b[0;34m[\u001b[0m\u001b[0;36m2\u001b[0m\u001b[0;34m]\u001b[0m \u001b[0;32min\u001b[0m \u001b[0mvote_count\u001b[0m\u001b[0;34m:\u001b[0m\u001b[0;34m\u001b[0m\u001b[0;34m\u001b[0m\u001b[0m\n\u001b[0m\u001b[1;32m     19\u001b[0m             \u001b[0mvote_count\u001b[0m\u001b[0;34m[\u001b[0m\u001b[0mrow\u001b[0m\u001b[0;34m[\u001b[0m\u001b[0;36m2\u001b[0m\u001b[0;34m]\u001b[0m\u001b[0;34m]\u001b[0m \u001b[0;34m=\u001b[0m \u001b[0mvote_count\u001b[0m\u001b[0;34m[\u001b[0m\u001b[0mrow\u001b[0m\u001b[0;34m[\u001b[0m\u001b[0;36m2\u001b[0m\u001b[0;34m]\u001b[0m\u001b[0;34m]\u001b[0m\u001b[0;34m+\u001b[0m\u001b[0;36m1\u001b[0m\u001b[0;34m\u001b[0m\u001b[0;34m\u001b[0m\u001b[0m\n\u001b[1;32m     20\u001b[0m         \u001b[0;32melse\u001b[0m\u001b[0;34m:\u001b[0m\u001b[0;34m\u001b[0m\u001b[0;34m\u001b[0m\u001b[0m\n",
      "\u001b[0;31mKeyError\u001b[0m: 2"
     ]
    }
   ],
   "source": [
    "\n",
    "#gets data file\n",
    "with open(file, 'r') as csvfile:\n",
    "    csvread = csv.DictReader(csvfile)\n",
    "\n",
    "    #skips header line\n",
    "    next(csvread, None)\n",
    "\n",
    "    #creates dictionary from file using column 3 as keys, using each name only once.\n",
    "    #counts votes for each candidate as entries\n",
    "    #keeps a total vote count by counting up 1 for each loop (# of rows w/o header)\n",
    "#     for row in csvread:\n",
    "#         total_votes += 1\n",
    "#         if row[2] in poll.keys():\n",
    "#             poll[row[2]] = poll[row[2]] + 1\n",
    "#         else:\n",
    "#             poll[row[2]] = 1\n",
    "    for row in csvread:\n",
    "        if row[2] in vote_count:\n",
    "            vote_count[row[2]] = vote_count[row[2]]+1\n",
    "        else: \n",
    "            vote_count[row[2]] = 1"
   ]
  },
  {
   "cell_type": "code",
   "execution_count": 9,
   "metadata": {},
   "outputs": [
    {
     "name": "stdout",
     "output_type": "stream",
     "text": [
      "{'Khan': 2218231, 'Correy': 704200, 'Li': 492940, \"O'Tooley\": 105630}\n"
     ]
    }
   ],
   "source": [
    "    print(poll)"
   ]
  },
  {
   "cell_type": "code",
   "execution_count": null,
   "metadata": {},
   "outputs": [],
   "source": []
  },
  {
   "cell_type": "code",
   "execution_count": 6,
   "metadata": {},
   "outputs": [
    {
     "ename": "SyntaxError",
     "evalue": "EOL while scanning string literal (<ipython-input-6-d49d61114ec2>, line 67)",
     "output_type": "error",
     "traceback": [
      "\u001b[0;36m  File \u001b[0;32m\"<ipython-input-6-d49d61114ec2>\"\u001b[0;36m, line \u001b[0;32m67\u001b[0m\n\u001b[0;31m    output_file = os.path.join(\"Resources\",\"election_results.txt')\u001b[0m\n\u001b[0m                                                                  ^\u001b[0m\n\u001b[0;31mSyntaxError\u001b[0m\u001b[0;31m:\u001b[0m EOL while scanning string literal\n"
     ]
    }
   ],
   "source": [
    "\n",
    "import os\n",
    "import csv\n",
    "\n",
    "#choose 1 or 2\n",
    "file_num = 1\n",
    "\n",
    "# Identifies file with poll data\n",
    "file = os.path.join('Resources', 'election_data.csv')\n",
    "\n",
    "#Creates dictionary to be used for candidate name and vote count.\n",
    "poll = {}\n",
    "\n",
    "#Sets variable, total votes, to zero for count.\n",
    "total_votes = 0\n",
    "\n",
    "#gets data file\n",
    "with open(file, 'r') as csvfile:\n",
    "    csvread = csv.reader(csvfile)\n",
    "\n",
    "    #skips header line\n",
    "    next(csvread, None)\n",
    "\n",
    "    #creates dictionary from file using column 3 as keys, using each name only once.\n",
    "    #counts votes for each candidate as entries\n",
    "    #keeps a total vote count by counting up 1 for each loop (# of rows w/o header)\n",
    "    for row in csvread:\n",
    "        total_votes += 1\n",
    "        if row[2] in poll.keys():\n",
    "            poll[row[2]] = poll[row[2]] + 1\n",
    "        else:\n",
    "            poll[row[2]] = 1\n",
    " \n",
    "#create empty list for candidates and his/her vote count\n",
    "candidates = []\n",
    "num_votes = []\n",
    "\n",
    "#takes dictionary keys and values and, respectively, dumps them into the lists, \n",
    "# candidates and num_votes\n",
    "for key, value in poll.items():\n",
    "    candidates.append(key)\n",
    "    num_votes.append(value)\n",
    "\n",
    "# creates vote percent list\n",
    "vote_percent = []\n",
    "for n in num_votes:\n",
    "    vote_percent.append(round(n/total_votes*100, 1))\n",
    "\n",
    "# zips candidates, num_votes, vote_percent into tuples\n",
    "clean_data = list(zip(candidates, num_votes, vote_percent))\n",
    "\n",
    "#creates winner_list to put winners (even if there is a tie)\n",
    "winner_list = []\n",
    "\n",
    "for name in clean_data:\n",
    "    if max(num_votes) == name[1]:\n",
    "        winner_list.append(name[0])\n",
    "\n",
    "# makes winner_list a str with the first entry\n",
    "winner = winner_list[0]\n",
    "\n",
    "#only runs if there is a tie and puts additional winners into a string separated by commas\n",
    "if len(winner_list) > 1:\n",
    "    for w in range(1, len(winner_list)):\n",
    "        winner = winner + \", \" + winner_list[w]\n",
    "\n",
    "#prints to file\n",
    "output_file = os.path.join(\"Resources\",\"election_results.txt')\n",
    "\n",
    "with open(output_file, 'w') as txtfile:\n",
    "    txtfile.writelines('Election Results \\n------------------------- \\nTotal Votes: ' + str(total_votes) + \n",
    "      '\\n-------------------------\\n')\n",
    "    for entry in clean_data:\n",
    "        txtfile.writelines(entry[0] + \": \" + str(entry[2]) +'%  (' + str(entry[1]) + ')\\n')\n",
    "    txtfile.writelines('------------------------- \\nWinner: ' + winner + '\\n-------------------------')\n",
    "\n",
    "#prints file to terminal\n",
    "with open(output_file, 'r') as readfile:\n",
    "    print(readfile.read())\n",
    "\n"
   ]
  },
  {
   "cell_type": "code",
   "execution_count": null,
   "metadata": {},
   "outputs": [],
   "source": []
  }
 ],
 "metadata": {
  "kernelspec": {
   "display_name": "Conda [PythonData]",
   "language": "python",
   "name": "pythondata"
  },
  "language_info": {
   "codemirror_mode": {
    "name": "ipython",
    "version": 3
   },
   "file_extension": ".py",
   "mimetype": "text/x-python",
   "name": "python",
   "nbconvert_exporter": "python",
   "pygments_lexer": "ipython3",
   "version": "3.7.3"
  }
 },
 "nbformat": 4,
 "nbformat_minor": 2
}
